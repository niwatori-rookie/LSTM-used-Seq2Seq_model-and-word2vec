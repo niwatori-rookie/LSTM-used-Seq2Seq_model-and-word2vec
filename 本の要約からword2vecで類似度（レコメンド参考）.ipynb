{
  "nbformat": 4,
  "nbformat_minor": 0,
  "metadata": {
    "colab": {
      "provenance": []
    },
    "kernelspec": {
      "name": "python3",
      "display_name": "Python 3"
    },
    "language_info": {
      "name": "python"
    }
  },
  "cells": [
    {
      "cell_type": "code",
      "execution_count": 42,
      "metadata": {
        "id": "KEFrvzGRr6wE",
        "colab": {
          "base_uri": "https://localhost:8080/"
        },
        "outputId": "d377814a-4298-49bc-b92e-ab366b1eb645"
      },
      "outputs": [
        {
          "output_type": "stream",
          "name": "stdout",
          "text": [
            "Requirement already satisfied: gensim in /usr/local/lib/python3.10/dist-packages (4.3.3)\n",
            "Requirement already satisfied: numpy<2.0,>=1.18.5 in /usr/local/lib/python3.10/dist-packages (from gensim) (1.26.4)\n",
            "Requirement already satisfied: scipy<1.14.0,>=1.7.0 in /usr/local/lib/python3.10/dist-packages (from gensim) (1.13.1)\n",
            "Requirement already satisfied: smart-open>=1.8.1 in /usr/local/lib/python3.10/dist-packages (from gensim) (7.0.4)\n",
            "Requirement already satisfied: wrapt in /usr/local/lib/python3.10/dist-packages (from smart-open>=1.8.1->gensim) (1.16.0)\n"
          ]
        }
      ],
      "source": [
        "# Install necessary libraries\n",
        "!pip install gensim\n",
        "\n",
        "# Import libraries\n",
        "import gensim\n",
        "from gensim.models import Word2Vec\n",
        "import numpy as np\n",
        "from sklearn.metrics.pairwise import cosine_similarity\n",
        "\n",
        "# Sample book data (replace with actual content)\n",
        "books = {\n",
        "    \"化物語(下)\": \"西尾維新がおくる青春怪異譚大人気シリーズ第一作、電子版オリジナル3分冊で登場！三つ編み眼鏡の委員長・羽川翼。阿良々木暦の恩人である彼女が魅せられた怪異とは……？【「つばさキャット」収録】\",\n",
        "    \"掟上今日子の備忘録\": \"眠ると記憶を失う名探偵・掟上今日子。彼女のもとに最先端の映像研究所で起きた機密データ盗難事件の依頼がもたらされる。容疑者は4人の研究者と事務員・隠館厄介。身体検査でも見つからず、現場は密室。犯人とデータはどこに消えたのか。ミステリー史上もっとも前向きな忘却探偵、「初めまして」の第1巻。（単行本版も配信中）\",\n",
        "    \"名探偵コナン(1)\": \"ホームズに憧れる推理マニアの高校生。工藤新一がとある理由で小学生の体に!!小さな探偵が大活躍の奇想天外本格探偵アクション!\",\n",
        "    \"ふたりはプリキュア\": \"※この商品はタブレットなど大きいディスプレイを備えた端末で読むことに適しています。また、文字だけを拡大することや、文字列のハイライト、検索、辞書の参照、引用などの機能が使用できません。 プリキュア20周年記念！ 2004年に刊行した、「ふたりはプリキュアビジュアルファンブック」の復刻改訂版です。 20年続くプリキュアシリーズの、初代「ふたりはプリキュア」は、レジェン ド作品となっています。限定描き下ろしイラスト、設定資料、各話のストーリーダイジェストなど、ファン垂涎の内容です。 鷲尾氏（プロデューサー）、稲上氏（キャラクターデザイン）、西尾氏（シ リーズディレクター）、川崎氏（シリーズ構成）のレジェンド４名の座談会や、初代プリキュアの声優２名（本名陽子氏、ゆかな氏）の対談も収録。※電子版の座談会とインタビューは紙版より詳しいロ ングバージョンです！ ファンなら絶対、手に入れたい１冊です。 【特典】 ・28話の絵コンテ138Ｐ分を、全部掲載 ・西尾大介氏の描き下ろし絵日記 など。 ※この商品は紙の書籍のページを画像にした電子書籍です。文字だけを拡大することはできませんので、タブレットサイズの端末での閲読を推奨します。また、文字列のハイライトや検索、辞書の参照、引用などの機能も使用できません。\",\n",
        "    \"忍物語\":\"たまには縁もゆかりもない女子を助けてみるのも乙だろう”直江津高校の女子生徒が、相次いで失踪する事件が発生した。ミイラ化した状態で発見された少女達の首筋には、特徴的な傷痕があっ て――？大学一年生になった阿良々木暦は、犯人を突き止めるべく走り出す！〈物語〉シリーズモンスターシーズン、開幕！\",\n",
        "    \"変な家\":\"謎の覆面作家・雨穴デビュー作!! 「読み出したら止まらない」と大反響 売れ続けて60万部突破 映画化2024年春公開決定 YouTubeで1200万回以上再生のバズ動画 あの「【不動産ミステリー】変 な家」には さらなる続きがあった!! 謎の空間、二重扉、窓のない子供部屋—— 間取りの謎をたどった先に見た、 「事実」とは!? 知人が購入を検討している都内の中古一軒家。 開放的で明るい内装の、ごくありふれた物件に思えたが、 間取り図に「謎の空間」が存在していた。 知り合いの設計士にその間取り図を見せると、 この家は、そこかしこに「奇妙な違和感」が 存在すると言う。 間取りの謎 をたどった先に見たものとは……。 不可解な間取りの真相は!? 突如消えた「元住人」は一体何者!? 本書で全ての謎が解き明かされる! 第一章 変な家 第二章 いびつな間取り図 第三章 記憶の中の間取り 第四章 縛られた家\",\n",
        "    \"シャーロックホームズ\":\" 高名な初老の教授が、年の離れた若い女性と恋に落ちた。それからというもの、教授が奇妙な行動をとるようになる。真夜中に家の周りを這い回り、壁のツタをよじ登るのだ。教授に何が起こっ たのか。 名探偵ホームズの推理が冴える『這う男』のほか、『高名な依頼人』『白面の兵士』『ショスコム荘』の4編を収録。晩年のコナン・ドイルが残した、シャーロック・ホームズ・シリーズの最後を飾る傑作選。\",\n",
        "    \"プリキュア２０周年アニバーサリープリキュアコスチュームクロニクル\":\"※この商品はタブレットなど大きいディスプレイを備えた端末で読むことに適しています。また、文字だけを拡大することや、文字列のハイライト、検索、辞書の参照、引用などの機能が使用できません。 2023年に【20周年】を迎えたプリキュアシリーズ。 女児を熱狂の渦に巻き込んだスタートから、今では性別年齢関係なく幅広いファンに支持され続ける大人気アニメになりました！ この本は2018年にプリキュア15周年を記念して作られた「コスチュームクロニクル」の増補改訂版です！ プリキュア78人のファッションの魅力を、キャラクターデザイナーやプロデューサーに取材。 東映アニメ ーション総合監修のもと、それぞれのキャラクターデザインが生み出された背景や理由、裏話、こだわりポイントに迫ります！ 【おもな内容】 プリキュアオールスターズ（歴代プリキュア78人全員）ファッションミュージアム プリキュア声優78人に聞きました「お気に入りファッションポイント」＆「元気のでるセリフ」 色別・ディテール別 プリキュアスタイルファッションファイル 初掲載！ 映画 に登場のプリキュア スペシャルフォーム＆オリジナルキャラクター プリキュア玩具解説etc. 【スペシャルインタビュー】 ・「プリキュアができるまで」を初代プリキュアの「生みの親３人」が語る！ プロデューサー鷲尾天さん・シリーズディレクター西尾大介さん・キャラクターデザイナー稲上晃さんにインタビュー（再掲載） ・「プリキュアの20周年を振り返る」鷲尾天さん単独インタビュー ・ 「プリキュアの魅力を生み出す力」キャラクターデザイナー川村敏江さんインタビュー（再掲載） ・キャラクターデザイナー中谷友紀子さん×プロデューサー村瀬亜季さんインタビュー ・キャラクター デザイナー斎藤敦史さん×プロデューサー髙橋麻樹さんインタビュー ・漫画家上北ふたごさんインタビュー ・バンダイ歴代玩具担当者インタビュー ・ファッション・クリエイティブ・ディレクター軍地彩弓さんインタビュー などなどのレジェンドたちへのインタビューがもりだくさん！ プリキュアのファッションが多角的にわかっちゃう1冊です！ ※この商品は紙の書籍のページを画像にした電子書籍 です。文字だけを拡大することはできませんので、タブレットサイズの端末での閲読を推奨します。また、文字列のハイライトや検索、辞書の参照、引用などの機能も使用できません。\"\n",
        "\n",
        "}\n",
        "\n"
      ]
    },
    {
      "cell_type": "code",
      "source": [
        "# Preprocess text data\n",
        "def preprocess_text(text):\n",
        "    return gensim.utils.simple_preprocess(text)\n",
        "\n",
        "# Tokenize book content\n",
        "tokenized_books = {title: preprocess_text(content) for title, content in books.items()}\n",
        "\n",
        "# Create a corpus of sentences\n",
        "sentences = list(tokenized_books.values())\n",
        "\n",
        "# Train Word2Vec model\n",
        "model = Word2Vec(sentences, vector_size=100, window=25, min_count=1, workers=4)\n",
        "\n",
        "# Function to get the vector for a book by averaging word vectors\n",
        "def get_book_vector(book_tokens):\n",
        "    vectors = [model.wv[word] for word in book_tokens if word in model.wv]\n",
        "    if vectors:\n",
        "        return np.mean(vectors, axis=0)\n",
        "    else:\n",
        "        return np.zeros(100)\n",
        "\n",
        "# Get vectors for all books\n",
        "book_vectors = {title: get_book_vector(tokens) for title, tokens in tokenized_books.items()}\n",
        "\n",
        "\n"
      ],
      "metadata": {
        "id": "8xLnbDKWvuEY"
      },
      "execution_count": 43,
      "outputs": []
    },
    {
      "cell_type": "code",
      "source": [
        "# Function to recommend similar books\n",
        "def recommend_books(book_title, top_n=4):\n",
        "    target_vector = book_vectors[book_title].reshape(1, -1)\n",
        "    similarities = {}\n",
        "\n",
        "    for title, vector in book_vectors.items():\n",
        "        if title != book_title:\n",
        "            similarity = cosine_similarity(target_vector, vector.reshape(1, -1))[0][0]\n",
        "            similarities[title] = similarity\n",
        "\n",
        "    recommended_books = sorted(similarities.items(), key=lambda x: x[1], reverse=True)[:top_n]\n",
        "    return recommended_books\n",
        "\n",
        "# Example: Recommend books similar to \"book1\"\n",
        "recommended_books = recommend_books(\"化物語(下)\")\n",
        "print(f\"Books similar to 'book1': {recommended_books}\")"
      ],
      "metadata": {
        "id": "myGsdSv-vugH",
        "colab": {
          "base_uri": "https://localhost:8080/"
        },
        "outputId": "afa60d67-bab6-47e8-f6f6-a7e4b687636d"
      },
      "execution_count": 44,
      "outputs": [
        {
          "output_type": "stream",
          "name": "stdout",
          "text": [
            "Books similar to 'book1': [('シャーロックホームズ', 0.179637), ('ふたりはプリキュア', 0.16983378), ('プリキュア２０周年アニバーサリープリキュアコスチュームクロニクル', 0.14566588), ('忍物語', 0.068961665)]\n"
          ]
        }
      ]
    },
    {
      "cell_type": "code",
      "source": [
        "recommended_books = recommend_books(\"掟上今日子の備忘録\")\n",
        "print(f\"Books similar to 'book1': {recommended_books}\")"
      ],
      "metadata": {
        "colab": {
          "base_uri": "https://localhost:8080/"
        },
        "id": "omlIpNB7UEt9",
        "outputId": "58f72246-f6a6-4c2e-c801-a54d65c730d7"
      },
      "execution_count": 45,
      "outputs": [
        {
          "output_type": "stream",
          "name": "stdout",
          "text": [
            "Books similar to 'book1': [('ふたりはプリキュア', 0.30265608), ('変な家', 0.09648465), ('忍物語', 0.058191817), ('プリキュア２０周年アニバーサリープリキュアコスチュームクロニクル', 0.05329036)]\n"
          ]
        }
      ]
    },
    {
      "cell_type": "code",
      "source": [
        "recommended_books = recommend_books(\"名探偵コナン(1)\")\n",
        "print(f\"Books similar to 'book1': {recommended_books}\")"
      ],
      "metadata": {
        "colab": {
          "base_uri": "https://localhost:8080/"
        },
        "id": "XCNAg5T5UHba",
        "outputId": "7ef8f610-0ba8-4194-a4bc-0ea3efa1a1f1"
      },
      "execution_count": 46,
      "outputs": [
        {
          "output_type": "stream",
          "name": "stdout",
          "text": [
            "Books similar to 'book1': [('化物語(下)', 0.0), ('掟上今日子の備忘録', 0.0), ('ふたりはプリキュア', 0.0), ('忍物語', 0.0)]\n"
          ]
        }
      ]
    },
    {
      "cell_type": "code",
      "source": [
        "recommended_books = recommend_books(\"ふたりはプリキュア\")\n",
        "print(f\"Books similar to 'book1': {recommended_books}\")"
      ],
      "metadata": {
        "colab": {
          "base_uri": "https://localhost:8080/"
        },
        "id": "PESezww_UNJ8",
        "outputId": "3f4bc5c9-1eff-4ce5-ec71-859a69d6eb94"
      },
      "execution_count": 47,
      "outputs": [
        {
          "output_type": "stream",
          "name": "stdout",
          "text": [
            "Books similar to 'book1': [('掟上今日子の備忘録', 0.30265608), ('プリキュア２０周年アニバーサリープリキュアコスチュームクロニクル', 0.29857254), ('化物語(下)', 0.16983378), ('変な家', 0.03344767)]\n"
          ]
        }
      ]
    },
    {
      "cell_type": "code",
      "source": [
        "recommended_books = recommend_books(\"忍物語\")\n",
        "print(f\"Books similar to 'book1': {recommended_books}\")"
      ],
      "metadata": {
        "colab": {
          "base_uri": "https://localhost:8080/"
        },
        "id": "_Y0CoQvaUQP0",
        "outputId": "d4676d32-3405-4cc5-ce56-9bc4b8773b9b"
      },
      "execution_count": 48,
      "outputs": [
        {
          "output_type": "stream",
          "name": "stdout",
          "text": [
            "Books similar to 'book1': [('化物語(下)', 0.068961665), ('掟上今日子の備忘録', 0.058191817), ('プリキュア２０周年アニバーサリープリキュアコスチュームクロニクル', 0.048944604), ('ふたりはプリキュア', 0.028771339)]\n"
          ]
        }
      ]
    },
    {
      "cell_type": "code",
      "source": [
        "recommended_books = recommend_books(\"変な家\")\n",
        "print(f\"Books similar to 'book1': {recommended_books}\")"
      ],
      "metadata": {
        "colab": {
          "base_uri": "https://localhost:8080/"
        },
        "id": "sGdRhykwUSlN",
        "outputId": "6535e924-50d0-4637-bd5a-9df43ce1ea30"
      },
      "execution_count": 49,
      "outputs": [
        {
          "output_type": "stream",
          "name": "stdout",
          "text": [
            "Books similar to 'book1': [('シャーロックホームズ', 0.097218305), ('掟上今日子の備忘録', 0.09648465), ('化物語(下)', 0.066784926), ('プリキュア２０周年アニバーサリープリキュアコスチュームクロニクル', 0.046367697)]\n"
          ]
        }
      ]
    },
    {
      "cell_type": "code",
      "source": [
        "recommended_books = recommend_books(\"シャーロックホームズ\")\n",
        "print(f\"Books similar to 'book1': {recommended_books}\")"
      ],
      "metadata": {
        "colab": {
          "base_uri": "https://localhost:8080/"
        },
        "id": "6xaUzdKIUeyh",
        "outputId": "809e269f-fd6a-437c-fd7e-e91df77fb8e4"
      },
      "execution_count": 50,
      "outputs": [
        {
          "output_type": "stream",
          "name": "stdout",
          "text": [
            "Books similar to 'book1': [('化物語(下)', 0.179637), ('変な家', 0.097218305), ('名探偵コナン(1)', 0.0), ('掟上今日子の備忘録', -0.018402807)]\n"
          ]
        }
      ]
    },
    {
      "cell_type": "code",
      "source": [
        "recommended_books = recommend_books(\"プリキュア２０周年アニバーサリープリキュアコスチュームクロニクル\")\n",
        "print(f\"Books similar to 'book1': {recommended_books}\")"
      ],
      "metadata": {
        "colab": {
          "base_uri": "https://localhost:8080/"
        },
        "id": "rfV7ZaOTUfFI",
        "outputId": "9448f580-0a0a-4948-f6a5-d61d21647d30"
      },
      "execution_count": 52,
      "outputs": [
        {
          "output_type": "stream",
          "name": "stdout",
          "text": [
            "Books similar to 'book1': [('ふたりはプリキュア', 0.29857254), ('化物語(下)', 0.14566588), ('掟上今日子の備忘録', 0.05329036), ('忍物語', 0.048944604)]\n"
          ]
        }
      ]
    }
  ]
}