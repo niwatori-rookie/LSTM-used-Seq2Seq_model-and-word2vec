{
  "nbformat": 4,
  "nbformat_minor": 0,
  "metadata": {
    "colab": {
      "provenance": [],
      "gpuType": "V28"
    },
    "kernelspec": {
      "name": "python3",
      "display_name": "Python 3"
    },
    "language_info": {
      "name": "python"
    },
    "accelerator": "TPU"
  },
  "cells": [
    {
      "cell_type": "code",
      "execution_count": 2,
      "metadata": {
        "id": "wuD1O5ODgm7D"
      },
      "outputs": [],
      "source": [
        "from tensorflow.keras.preprocessing.text import Tokenizer\n",
        "from sklearn.model_selection import train_test_split\n",
        "from tensorflow.keras.preprocessing.sequence import pad_sequences\n",
        "\n",
        "def load_data(file_path):\n",
        "    tokenizer = Tokenizer(filters=\"\")\n",
        "    whole_texts = []\n",
        "    for line in open(file_path, encoding='utf-8'):\n",
        "        whole_texts.append(\"<s> \" + line.strip() + \" </s>\")\n",
        "\n",
        "    tokenizer.fit_on_texts(whole_texts)\n",
        "\n",
        "    return tokenizer.texts_to_sequences(whole_texts), tokenizer\n",
        "\n",
        "# 読み込み＆Tokenizerによる数値化\n",
        "x_train, tokenizer_en = load_data('sample_data/train.en')\n",
        "y_train, tokenizer_ja = load_data('sample_data/train.ja')\n",
        "\n",
        "en_vocab_size = len(tokenizer_en.word_index) + 1\n",
        "ja_vocab_size = len(tokenizer_ja.word_index) + 1\n",
        "\n",
        "x_train, x_test, y_train, y_test = train_test_split(x_train, y_train, test_size=0.02, random_state=42)\n",
        "\n",
        "# パディング\n",
        "x_train = pad_sequences(x_train, padding='post')\n",
        "y_train = pad_sequences(y_train, padding='post')\n",
        "\n",
        "seqX_len = len(x_train[0])\n",
        "seqY_len = len(y_train[0])"
      ]
    },
    {
      "cell_type": "code",
      "source": [
        "from tensorflow.keras.models import Model\n",
        "from tensorflow.keras.layers import Input, Embedding, Dense, LSTM\n",
        "\n",
        "emb_dim = 256\n",
        "hid_dim = 256\n",
        "\n",
        "## 符号化器\n",
        "# Inputレイヤー（返り値としてテンソルを受け取る）\n",
        "encoder_inputs = Input(shape=(seqX_len,))\n",
        "\n",
        "# モデルの層構成（手前の層の返り値テンソルを、次の接続したい層に別途引数として与える）\n",
        "# InputレイヤーとEmbeddingレイヤーを接続（+Embeddingレイヤーのインスタンス化）\n",
        "encoder_embedded = Embedding(en_vocab_size, emb_dim, mask_zero=True)(encoder_inputs) # shape: (seqX_len,)->(seqX_len, emb_dim)\n",
        "# EmbeddingレイヤーとLSTMレイヤーを接続（+LSTMレイヤーのインスタンス化）\n",
        "_, *encoder_states = LSTM(hid_dim, return_state=True)(encoder_embedded)  # shape: (seqX_len, emb_dim)->(hid_dim, )\n",
        "# このLSTMレイヤーの出力に関しては下記に補足あり"
      ],
      "metadata": {
        "id": "wcLIsr91g5WH"
      },
      "execution_count": 3,
      "outputs": []
    },
    {
      "cell_type": "code",
      "source": [
        "## 復号化器\n",
        "# Inputレイヤー（返り値としてテンソルを受け取る）\n",
        "decoder_inputs = Input(shape=(seqY_len,))\n",
        "\n",
        "# モデルの層構成（手前の層の返り値テンソルを、次の接続したい層に別途引数として与える）\n",
        "# InputレイヤーとEmbeddingレイヤーを接続\n",
        "decoder_embedding = Embedding(ja_vocab_size, emb_dim) # 後で参照したいので、レイヤー自体を変数化\n",
        "decoder_embedded = decoder_embedding(decoder_inputs)  # shape: (seqY_len,)->(seqY_len, emb_dim)\n",
        "# EmbeddingレイヤーとLSTMレイヤーを接続（encoder_statesを初期状態として指定）\n",
        "decoder_lstm = LSTM(hid_dim, return_sequences=True, return_state=True) # 後で参照したいので、レイヤー自体を変数化\n",
        "decoder_outputs, _, _ = decoder_lstm(decoder_embedded, initial_state=encoder_states) # shape: (seqY_len, emb_dim)->(seqY_len, hid_dim)\n",
        "# LSTMレイヤーとDenseレイヤーを接続\n",
        "decoder_dense = Dense(ja_vocab_size, activation='softmax') # 後で参照したいので、レイヤー自体を変数化\n",
        "decoder_outputs = decoder_dense(decoder_outputs) # shape: (seqY_len, hid_dim)->(seqY_len, ja_vocab_size)\n",
        "\n",
        "# モデル構築（入力は符号化器＆復号化器、出力は復号化器のみ）\n",
        "model = Model([encoder_inputs, decoder_inputs], decoder_outputs)\n",
        "model.compile(optimizer='rmsprop', loss='sparse_categorical_crossentropy')\n",
        "# 今回は、sparse_categorical_crossentropy（正解ラベルとしてone_hot表現のベクトルでなく数値を受け取るcategorical_crossentropy）を使用"
      ],
      "metadata": {
        "id": "NoPP4ONRiIaH"
      },
      "execution_count": 4,
      "outputs": []
    },
    {
      "cell_type": "code",
      "source": [
        "import numpy as np\n",
        "\n",
        "train_target = np.hstack((y_train[:, 1:], np.zeros((len(y_train),1), dtype=np.int32)))\n",
        "\n",
        "model.fit([x_train, y_train], np.expand_dims(train_target, -1), batch_size=256, epochs=15, verbose=2, validation_split=0.2)"
      ],
      "metadata": {
        "colab": {
          "base_uri": "https://localhost:8080/"
        },
        "id": "9gWxnr8mkNcS",
        "outputId": "f5b4fb8b-5207-4379-a7fd-6033209ad05a"
      },
      "execution_count": 9,
      "outputs": [
        {
          "output_type": "stream",
          "name": "stdout",
          "text": [
            "Epoch 1/15\n",
            "154/154 - 46s - loss: 2.9330 - val_loss: 2.8605 - 46s/epoch - 297ms/step\n",
            "Epoch 2/15\n",
            "154/154 - 45s - loss: 2.7676 - val_loss: 2.7063 - 45s/epoch - 294ms/step\n",
            "Epoch 3/15\n",
            "154/154 - 45s - loss: 2.6129 - val_loss: 2.5669 - 45s/epoch - 293ms/step\n",
            "Epoch 4/15\n",
            "154/154 - 45s - loss: 2.4862 - val_loss: 2.4662 - 45s/epoch - 294ms/step\n",
            "Epoch 5/15\n",
            "154/154 - 45s - loss: 2.3926 - val_loss: 2.3646 - 45s/epoch - 293ms/step\n",
            "Epoch 6/15\n",
            "154/154 - 45s - loss: 2.3114 - val_loss: 2.3024 - 45s/epoch - 295ms/step\n",
            "Epoch 7/15\n",
            "154/154 - 45s - loss: 2.2387 - val_loss: 2.2529 - 45s/epoch - 292ms/step\n",
            "Epoch 8/15\n",
            "154/154 - 45s - loss: 2.1817 - val_loss: 2.1832 - 45s/epoch - 295ms/step\n",
            "Epoch 9/15\n",
            "154/154 - 45s - loss: 2.1366 - val_loss: 2.1362 - 45s/epoch - 292ms/step\n",
            "Epoch 10/15\n",
            "154/154 - 45s - loss: 2.0961 - val_loss: 2.1131 - 45s/epoch - 294ms/step\n",
            "Epoch 11/15\n",
            "154/154 - 45s - loss: 2.0582 - val_loss: 2.0921 - 45s/epoch - 292ms/step\n",
            "Epoch 12/15\n",
            "154/154 - 45s - loss: 2.0211 - val_loss: 2.0414 - 45s/epoch - 293ms/step\n",
            "Epoch 13/15\n",
            "154/154 - 45s - loss: 1.9878 - val_loss: 2.0093 - 45s/epoch - 293ms/step\n",
            "Epoch 14/15\n",
            "154/154 - 45s - loss: 1.9571 - val_loss: 2.0116 - 45s/epoch - 293ms/step\n",
            "Epoch 15/15\n",
            "154/154 - 46s - loss: 1.9284 - val_loss: 1.9625 - 46s/epoch - 296ms/step\n"
          ]
        },
        {
          "output_type": "execute_result",
          "data": {
            "text/plain": [
              "<keras.src.callbacks.History at 0x7b381c2efc70>"
            ]
          },
          "metadata": {},
          "execution_count": 9
        }
      ]
    },
    {
      "cell_type": "code",
      "source": [
        "# サンプリング用（生成用）のモデルを作成\n",
        "\n",
        "# 符号化器（学習時と同じ構成、学習したレイヤーを利用）\n",
        "encoder_model = Model(encoder_inputs, encoder_states)\n",
        "\n",
        "# 復号化器\n",
        "decoder_states_inputs = [Input(shape=(hid_dim,)), Input(shape=(hid_dim,))] # decorder_lstmの初期状態指定用(h_t, c_t)\n",
        "\n",
        "decoder_inputs = Input(shape=(1,))\n",
        "decoder_embedded = decoder_embedding(decoder_inputs) # 学習済みEmbeddingレイヤーを利用\n",
        "decoder_outputs, *decoder_states = decoder_lstm(decoder_embedded, initial_state=decoder_states_inputs) # 学習済みLSTMレイヤーを利用\n",
        "decoder_outputs = decoder_dense(decoder_outputs) # 学習済みDenseレイヤーを利用\n",
        "\n",
        "decoder_model = Model([decoder_inputs] + decoder_states_inputs, [decoder_outputs] + decoder_states)"
      ],
      "metadata": {
        "id": "RbuHq1rdi_vt"
      },
      "execution_count": 10,
      "outputs": []
    },
    {
      "cell_type": "code",
      "source": [
        "def decode_sequence(input_seq, bos_eos, max_output_length = 1000):\n",
        "    states_value = encoder_model.predict(input_seq)\n",
        "\n",
        "    target_seq = np.array(bos_eos[0])  # bos_eos[0]=\"<s>\"に対応するインデックス\n",
        "    output_seq= bos_eos[0][:]\n",
        "\n",
        "    while True:\n",
        "        output_tokens, *states_value = decoder_model.predict([target_seq] + states_value)\n",
        "        sampled_token_index = [np.argmax(output_tokens[0, -1, :])]\n",
        "        output_seq += sampled_token_index\n",
        "\n",
        "        if (sampled_token_index == bos_eos[1] or len(output_seq) > max_output_length):\n",
        "            break\n",
        "\n",
        "        target_seq = np.array(sampled_token_index)\n",
        "\n",
        "    return output_seq"
      ],
      "metadata": {
        "id": "DB7MAbQ2jJtR"
      },
      "execution_count": 11,
      "outputs": []
    },
    {
      "cell_type": "code",
      "source": [
        "detokenizer_en = dict(map(reversed, tokenizer_en.word_index.items()))\n",
        "detokenizer_ja = dict(map(reversed, tokenizer_ja.word_index.items()))\n",
        "\n",
        "text_no = 0\n",
        "input_seq = pad_sequences([x_test[text_no]], seqX_len, padding='post')\n",
        "bos_eos = tokenizer_ja.texts_to_sequences([\"<s>\", \"</s>\"])\n",
        "\n",
        "print('元の文:', ' '.join([detokenizer_en[i] for i in x_test[text_no]]))\n",
        "print('生成文:', ' '.join([detokenizer_ja[i] for i in decode_sequence(input_seq, bos_eos)]))\n",
        "print('正解文:', ' '.join([detokenizer_ja[i] for i in y_test[text_no]]))"
      ],
      "metadata": {
        "colab": {
          "base_uri": "https://localhost:8080/"
        },
        "id": "FDXaKP2sjXE0",
        "outputId": "38f68850-5e6a-42a5-d8d4-4626eb107316"
      },
      "execution_count": 12,
      "outputs": [
        {
          "output_type": "stream",
          "name": "stdout",
          "text": [
            "元の文: <s> you may extend your stay in tokyo . </s>\n",
            "1/1 [==============================] - 1s 1s/step\n",
            "1/1 [==============================] - 0s 428ms/step\n",
            "1/1 [==============================] - 0s 29ms/step\n",
            "1/1 [==============================] - 0s 26ms/step\n",
            "1/1 [==============================] - 0s 26ms/step\n",
            "1/1 [==============================] - 0s 28ms/step\n",
            "1/1 [==============================] - 0s 28ms/step\n",
            "1/1 [==============================] - 0s 26ms/step\n",
            "1/1 [==============================] - 0s 37ms/step\n",
            "1/1 [==============================] - 0s 28ms/step\n",
            "1/1 [==============================] - 0s 28ms/step\n",
            "1/1 [==============================] - 0s 26ms/step\n",
            "1/1 [==============================] - 0s 27ms/step\n",
            "1/1 [==============================] - 0s 27ms/step\n",
            "1/1 [==============================] - 0s 26ms/step\n",
            "生成文: <s> 君 は あなた の 計画 に 行 く て い ま す 。 </s>\n",
            "正解文: <s> 東京 滞在 を 延ば し て も い い で す よ 。 </s>\n"
          ]
        }
      ]
    }
  ]
}